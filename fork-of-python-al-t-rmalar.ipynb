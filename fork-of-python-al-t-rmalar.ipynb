{
 "cells": [
  {
   "cell_type": "markdown",
   "id": "272cde81",
   "metadata": {
    "_cell_guid": "b1076dfc-b9ad-4769-8c92-a6c4dae69d19",
    "_uuid": "8f2839f25d086af736a60e9eeb907d3b93b6e0e5",
    "papermill": {
     "duration": 0.004726,
     "end_time": "2022-11-24T17:52:01.791473",
     "exception": false,
     "start_time": "2022-11-24T17:52:01.786747",
     "status": "completed"
    },
    "tags": []
   },
   "source": [
    "# Python Alıştırmalar"
   ]
  },
  {
   "cell_type": "markdown",
   "id": "87b8ec22",
   "metadata": {
    "papermill": {
     "duration": 0.003502,
     "end_time": "2022-11-24T17:52:01.798846",
     "exception": false,
     "start_time": "2022-11-24T17:52:01.795344",
     "status": "completed"
    },
    "tags": []
   },
   "source": [
    "![](https://static.vecteezy.com/system/resources/previews/001/222/756/non_2x/woman-use-laptop-sitting-on-a-floor-with-cat-vector.jpg)"
   ]
  },
  {
   "cell_type": "code",
   "execution_count": 1,
   "id": "e4aef610",
   "metadata": {
    "execution": {
     "iopub.execute_input": "2022-11-24T17:52:01.809005Z",
     "iopub.status.busy": "2022-11-24T17:52:01.808441Z",
     "iopub.status.idle": "2022-11-24T17:52:01.820663Z",
     "shell.execute_reply": "2022-11-24T17:52:01.819638Z"
    },
    "papermill": {
     "duration": 0.020737,
     "end_time": "2022-11-24T17:52:01.823344",
     "exception": false,
     "start_time": "2022-11-24T17:52:01.802607",
     "status": "completed"
    },
    "tags": []
   },
   "outputs": [],
   "source": [
    "# This Python 3 environment comes with many helpful analytics libraries installed\n",
    "# It is defined by the kaggle/python Docker image: https://github.com/kaggle/docker-python\n",
    "# For example, here's several helpful packages to load\n",
    "\n",
    "import numpy as np # linear algebra\n",
    "import pandas as pd # data processing, CSV file I/O (e.g. pd.read_csv)\n",
    "\n",
    "# Input data files are available in the read-only \"../input/\" directory\n",
    "# For example, running this (by clicking run or pressing Shift+Enter) will list all files under the input directory\n",
    "\n",
    "import os\n",
    "for dirname, _, filenames in os.walk('/kaggle/input'):\n",
    "    for filename in filenames:\n",
    "        print(os.path.join(dirname, filename))\n",
    "\n",
    "# You can write up to 20GB to the current directory (/kaggle/working/) that gets preserved as output when you create a version using \"Save & Run All\" \n",
    "# You can also write temporary files to /kaggle/temp/, but they won't be saved outside of the current session"
   ]
  },
  {
   "cell_type": "markdown",
   "id": "9187b073",
   "metadata": {
    "papermill": {
     "duration": 0.003829,
     "end_time": "2022-11-24T17:52:01.831552",
     "exception": false,
     "start_time": "2022-11-24T17:52:01.827723",
     "status": "completed"
    },
    "tags": []
   },
   "source": [
    "## GÖREV 1: Veri yapılarının tipleriniz inceleyiniz."
   ]
  },
  {
   "cell_type": "code",
   "execution_count": 2,
   "id": "df2452d7",
   "metadata": {
    "execution": {
     "iopub.execute_input": "2022-11-24T17:52:01.841172Z",
     "iopub.status.busy": "2022-11-24T17:52:01.840746Z",
     "iopub.status.idle": "2022-11-24T17:52:01.852651Z",
     "shell.execute_reply": "2022-11-24T17:52:01.851909Z"
    },
    "papermill": {
     "duration": 0.02006,
     "end_time": "2022-11-24T17:52:01.855524",
     "exception": false,
     "start_time": "2022-11-24T17:52:01.835464",
     "status": "completed"
    },
    "tags": []
   },
   "outputs": [
    {
     "data": {
      "text/plain": [
       "set"
      ]
     },
     "execution_count": 2,
     "metadata": {},
     "output_type": "execute_result"
    }
   ],
   "source": [
    "x = 8\n",
    "type(x)\n",
    "\n",
    "y = 3.2\n",
    "type(y)\n",
    "\n",
    "z = 8j + 18\n",
    "type(z)\n",
    "\n",
    "a = \"Hello World\"\n",
    "type(a)\n",
    "\n",
    "b = True\n",
    "type(b)\n",
    "\n",
    "c = 23 < 22\n",
    "type(c)\n",
    "\n",
    "\n",
    "l = [1, 2, 3, 4,\"String\",3.2, False]\n",
    "type(l)\n",
    "\n",
    "\n",
    "d = {\"Name\": \"Jake\",\n",
    "     \"Age\": [27,56],\n",
    "     \"Adress\": \"Downtown\"}\n",
    "type(d)\n",
    "\n",
    "\n",
    "t = (\"Machine Learning\", \"Data Science\")\n",
    "type(t)\n",
    "\n",
    "\n",
    "s = {\"Python\", \"Machine Learning\", \"Data Science\",\"Python\"}\n",
    "type(s)"
   ]
  },
  {
   "cell_type": "markdown",
   "id": "1ca4ad10",
   "metadata": {
    "papermill": {
     "duration": 0.003838,
     "end_time": "2022-11-24T17:52:01.864241",
     "exception": false,
     "start_time": "2022-11-24T17:52:01.860403",
     "status": "completed"
    },
    "tags": []
   },
   "source": [
    "## # GÖREV 2: Verilen string ifadenin tüm harflerini büyük harfe çeviriniz. Virgül ve nokta yerine space koyunuz, kelime kelime ayırınız.\n"
   ]
  },
  {
   "cell_type": "code",
   "execution_count": 3,
   "id": "095a2152",
   "metadata": {
    "execution": {
     "iopub.execute_input": "2022-11-24T17:52:01.874810Z",
     "iopub.status.busy": "2022-11-24T17:52:01.874472Z",
     "iopub.status.idle": "2022-11-24T17:52:01.880659Z",
     "shell.execute_reply": "2022-11-24T17:52:01.879357Z"
    },
    "papermill": {
     "duration": 0.015229,
     "end_time": "2022-11-24T17:52:01.883350",
     "exception": false,
     "start_time": "2022-11-24T17:52:01.868121",
     "status": "completed"
    },
    "tags": []
   },
   "outputs": [
    {
     "name": "stdout",
     "output_type": "stream",
     "text": [
      "['THE', 'GOAL', 'IS', 'TO', 'TURN', 'DATA', 'INTO', 'INFORMATION', 'AND', 'INFORMATION', 'INTO', 'INSIGHT']\n"
     ]
    }
   ],
   "source": [
    "text = \"The goal is to turn data into information, and information into insight.\"\n",
    "text2= str(text.upper()).replace(\",\", \" \").replace(\".\", \" \").split()\n",
    "print(text2)\n"
   ]
  },
  {
   "cell_type": "markdown",
   "id": "557f9e8a",
   "metadata": {
    "papermill": {
     "duration": 0.003904,
     "end_time": "2022-11-24T17:52:01.892401",
     "exception": false,
     "start_time": "2022-11-24T17:52:01.888497",
     "status": "completed"
    },
    "tags": []
   },
   "source": [
    "## # GÖREV 3: Verilen liste için aşağıdaki görevleri yapınız."
   ]
  },
  {
   "cell_type": "code",
   "execution_count": 4,
   "id": "cd9f0d42",
   "metadata": {
    "execution": {
     "iopub.execute_input": "2022-11-24T17:52:01.901914Z",
     "iopub.status.busy": "2022-11-24T17:52:01.901568Z",
     "iopub.status.idle": "2022-11-24T17:52:01.908342Z",
     "shell.execute_reply": "2022-11-24T17:52:01.907113Z"
    },
    "papermill": {
     "duration": 0.014146,
     "end_time": "2022-11-24T17:52:01.910547",
     "exception": false,
     "start_time": "2022-11-24T17:52:01.896401",
     "status": "completed"
    },
    "tags": []
   },
   "outputs": [],
   "source": [
    "lst = [\"D\",\"A\",\"T\",\"A\",\"S\",\"C\",\"I\",\"E\",\"N\",\"C\",\"E\"]\n",
    "\n",
    "# Adım 1: Verilen listenin eleman sayısına bakın.\n",
    "len(lst)\n",
    "\n",
    "# Adım 2: Sıfırıncı ve onuncu index'teki elemanları çağırın.\n",
    "lst[0]\n",
    "lst[10]\n",
    "\n",
    "\n",
    "# Adım 3: Verilen liste üzerinden [\"D\",\"A\",\"T\",\"A\"] listesi oluşturun.\n",
    "lst_1= lst[0:4]\n",
    "\n",
    "\n",
    "# Adım 4: Sekizinci index'teki elemanı silin.\n",
    "lst.pop(8)\n",
    "\n",
    "# Adım 5: Yeni bir eleman ekleyin.\n",
    "lst.append(\"N\")\n",
    "\n",
    "# Adım 6: Sekizinci index'e  \"N\" elemanını tekrar ekleyin.\n",
    "lst.insert(8,\"N\")\n"
   ]
  },
  {
   "cell_type": "markdown",
   "id": "68fd4863",
   "metadata": {
    "papermill": {
     "duration": 0.005294,
     "end_time": "2022-11-24T17:52:01.920379",
     "exception": false,
     "start_time": "2022-11-24T17:52:01.915085",
     "status": "completed"
    },
    "tags": []
   },
   "source": [
    "## # GÖREV 4: Verilen sözlük yapısına aşağıdaki adımları uygulayınız.\n"
   ]
  },
  {
   "cell_type": "code",
   "execution_count": 5,
   "id": "6074bc0d",
   "metadata": {
    "execution": {
     "iopub.execute_input": "2022-11-24T17:52:01.930791Z",
     "iopub.status.busy": "2022-11-24T17:52:01.930382Z",
     "iopub.status.idle": "2022-11-24T17:52:01.939756Z",
     "shell.execute_reply": "2022-11-24T17:52:01.938612Z"
    },
    "papermill": {
     "duration": 0.017653,
     "end_time": "2022-11-24T17:52:01.942117",
     "exception": false,
     "start_time": "2022-11-24T17:52:01.924464",
     "status": "completed"
    },
    "tags": []
   },
   "outputs": [],
   "source": [
    "dict = {'Christian': [\"America\",18],\n",
    "        'Daisy':[\"England\",12],\n",
    "        'Antonio':[\"Spain\",22],\n",
    "        'Dante':[\"Italy\",25]}\n",
    "\n",
    "# Adım 1: Key değerlerine erişiniz.\n",
    "dict.keys()\n",
    "\n",
    "# Adım 2: Value'lara erişiniz.\n",
    "dict.values()\n",
    "\n",
    "# Adım 3: Daisy key'ine ait 12 değerini 13 olarak güncelleyiniz.\n",
    "dict[\"Daisy\"] = [\"England\", 13]\n",
    "\n",
    "\n",
    "# Adım 4: Key değeri Ahmet value değeri [Turkey,24] olan yeni bir değer ekleyiniz.\n",
    "dict[\"Ahmet\"] = [\"Turkey\", 24]\n",
    "\n",
    "# Adım 5: Antonio'yu dictionary'den siliniz.\n",
    "del dict[\"Antonio\"]"
   ]
  },
  {
   "cell_type": "markdown",
   "id": "d6629bfe",
   "metadata": {
    "papermill": {
     "duration": 0.003949,
     "end_time": "2022-11-24T17:52:01.950487",
     "exception": false,
     "start_time": "2022-11-24T17:52:01.946538",
     "status": "completed"
    },
    "tags": []
   },
   "source": [
    "## # GÖREV 5: Arguman olarak bir liste alan, listenin içerisindeki tek ve çift sayıları ayrı listelere atıyan ve bu listeleri return eden fonksiyon yazınız.\n"
   ]
  },
  {
   "cell_type": "code",
   "execution_count": 6,
   "id": "21f2df1c",
   "metadata": {
    "execution": {
     "iopub.execute_input": "2022-11-24T17:52:01.962333Z",
     "iopub.status.busy": "2022-11-24T17:52:01.961478Z",
     "iopub.status.idle": "2022-11-24T17:52:01.968717Z",
     "shell.execute_reply": "2022-11-24T17:52:01.966910Z"
    },
    "papermill": {
     "duration": 0.016191,
     "end_time": "2022-11-24T17:52:01.970948",
     "exception": false,
     "start_time": "2022-11-24T17:52:01.954757",
     "status": "completed"
    },
    "tags": []
   },
   "outputs": [
    {
     "name": "stdout",
     "output_type": "stream",
     "text": [
      "[2, 18, 22] [13, 93]\n"
     ]
    }
   ],
   "source": [
    "l = [2,13,18,93,22]\n",
    "\n",
    "def func(list):\n",
    "    even_list = []\n",
    "    odd_list = []\n",
    "    \n",
    "    for i in list:\n",
    "        if i % 2 == 0:\n",
    "            even_list.append(i)\n",
    "        else:\n",
    "            odd_list.append(i)\n",
    "            \n",
    "    return even_list, odd_list\n",
    "\n",
    "even, odd = func(l)\n",
    "\n",
    "print(even, odd)"
   ]
  },
  {
   "cell_type": "markdown",
   "id": "89ac2401",
   "metadata": {
    "papermill": {
     "duration": 0.003974,
     "end_time": "2022-11-24T17:52:01.979301",
     "exception": false,
     "start_time": "2022-11-24T17:52:01.975327",
     "status": "completed"
    },
    "tags": []
   },
   "source": [
    "## GÖREV 6: Aşağıda verilen listede mühendislik ve tıp fakülterinde dereceye giren öğrencilerin isimleri bulunmaktadır.\n",
    "### Sırasıyla ilk üç öğrenci mühendislik fakültesinin başarı sırasını temsil ederken son üç öğrenci de tıp fakültesi öğrenci sırasına aittir.\n",
    "### Enumarate kullanarak öğrenci derecelerini fakülte özelinde yazdırınız."
   ]
  },
  {
   "cell_type": "code",
   "execution_count": 7,
   "id": "c9dbcc58",
   "metadata": {
    "execution": {
     "iopub.execute_input": "2022-11-24T17:52:01.991731Z",
     "iopub.status.busy": "2022-11-24T17:52:01.990508Z",
     "iopub.status.idle": "2022-11-24T17:52:01.997980Z",
     "shell.execute_reply": "2022-11-24T17:52:01.996894Z"
    },
    "papermill": {
     "duration": 0.016303,
     "end_time": "2022-11-24T17:52:02.000170",
     "exception": false,
     "start_time": "2022-11-24T17:52:01.983867",
     "status": "completed"
    },
    "tags": []
   },
   "outputs": [
    {
     "name": "stdout",
     "output_type": "stream",
     "text": [
      "Mühendislik Fakültesi 1 . öğrenci: Ali\n",
      "Mühendislik Fakültesi 2 . öğrenci: Veli\n",
      "Mühendislik Fakültesi 3 . öğrenci: Ayşe\n",
      "Tıp Fakültesi 1 . öğrenci: Talat\n",
      "Tıp Fakültesi 2 . öğrenci: Zeynep\n",
      "Tıp Fakültesi 3 . öğrenci: Ece\n"
     ]
    }
   ],
   "source": [
    "ogrenciler = [\"Ali\",\"Veli\",\"Ayşe\",\"Talat\",\"Zeynep\",\"Ece\"]\n",
    "\n",
    "for index, student in enumerate(ogrenciler, 1):\n",
    "    if index <= 3:\n",
    "        print(\"Mühendislik Fakültesi\", index, \".\", \"öğrenci:\", student)\n",
    "    else:\n",
    "        print(\"Tıp Fakültesi\", index-3, \".\", \"öğrenci:\", student)"
   ]
  },
  {
   "cell_type": "markdown",
   "id": "47444256",
   "metadata": {
    "papermill": {
     "duration": 0.005518,
     "end_time": "2022-11-24T17:52:02.010077",
     "exception": false,
     "start_time": "2022-11-24T17:52:02.004559",
     "status": "completed"
    },
    "tags": []
   },
   "source": [
    "## # GÖREV 7: Aşağıda 3 adet liste verilmiştir. Listelerde sırası ile bir dersin kodu, kredisi ve kontenjan bilgileri yer almaktadır. Zip kullanarak ders bilgilerini bastırınız.\n"
   ]
  },
  {
   "cell_type": "code",
   "execution_count": 8,
   "id": "61ab184b",
   "metadata": {
    "execution": {
     "iopub.execute_input": "2022-11-24T17:52:02.020850Z",
     "iopub.status.busy": "2022-11-24T17:52:02.020472Z",
     "iopub.status.idle": "2022-11-24T17:52:02.026566Z",
     "shell.execute_reply": "2022-11-24T17:52:02.025741Z"
    },
    "papermill": {
     "duration": 0.013955,
     "end_time": "2022-11-24T17:52:02.028529",
     "exception": false,
     "start_time": "2022-11-24T17:52:02.014574",
     "status": "completed"
    },
    "tags": []
   },
   "outputs": [
    {
     "name": "stdout",
     "output_type": "stream",
     "text": [
      "Kredisi 3 olan CMP1005 kodlu dersin kontenjanı 30 kişidir.\n",
      "Kredisi 4 olan PSY1001 kodlu dersin kontenjanı 75 kişidir.\n",
      "Kredisi 2 olan HUK1005 kodlu dersin kontenjanı 150 kişidir.\n",
      "Kredisi 4 olan SEN2204 kodlu dersin kontenjanı 25 kişidir.\n"
     ]
    }
   ],
   "source": [
    "ders_kodu = [\"CMP1005\",\"PSY1001\",\"HUK1005\",\"SEN2204\"]\n",
    "kredi = [3,4,2,4]\n",
    "kontenjan = [30,75,150,25]\n",
    "\n",
    "list(zip(kredi, ders_kodu, kontenjan))\n",
    "\n",
    "for ders_kodu, kredi, kontenjan in zip(ders_kodu, kredi, kontenjan):\n",
    "    print(f\"Kredisi {kredi} olan {ders_kodu} kodlu dersin kontenjanı {kontenjan} kişidir.\")"
   ]
  },
  {
   "cell_type": "markdown",
   "id": "b52fa4d6",
   "metadata": {
    "papermill": {
     "duration": 0.003921,
     "end_time": "2022-11-24T17:52:02.036842",
     "exception": false,
     "start_time": "2022-11-24T17:52:02.032921",
     "status": "completed"
    },
    "tags": []
   },
   "source": [
    "## GÖREV 8: Aşağıda 2 adet set verilmiştir.\n",
    "### Sizden istenilen eğer 1. küme 2. kümeyi kapsiyor ise ortak elemanlarını eğer kapsamıyor ise 2. kümenin 1. kümeden farkını yazdıracak fonksiyonu tanımlamanız beklenmektedir."
   ]
  },
  {
   "cell_type": "code",
   "execution_count": 9,
   "id": "5d90d976",
   "metadata": {
    "execution": {
     "iopub.execute_input": "2022-11-24T17:52:02.047848Z",
     "iopub.status.busy": "2022-11-24T17:52:02.046532Z",
     "iopub.status.idle": "2022-11-24T17:52:02.056460Z",
     "shell.execute_reply": "2022-11-24T17:52:02.054194Z"
    },
    "papermill": {
     "duration": 0.020097,
     "end_time": "2022-11-24T17:52:02.061003",
     "exception": false,
     "start_time": "2022-11-24T17:52:02.040906",
     "status": "completed"
    },
    "tags": []
   },
   "outputs": [
    {
     "name": "stdout",
     "output_type": "stream",
     "text": [
      "{'function', 'qcut', 'lambda', 'miuul'}\n"
     ]
    }
   ],
   "source": [
    "kume1 = set([\"data\", \"python\"])\n",
    "kume2 = set([\"data\", \"function\", \"qcut\", \"lambda\", \"python\", \"miuul\"])\n",
    "\n",
    "if kume1.issuperset(kume2):\n",
    "    print(kume1.intersection(kume2))\n",
    "else:\n",
    "    print(kume2.difference(kume1))"
   ]
  }
 ],
 "metadata": {
  "kernelspec": {
   "display_name": "Python 3",
   "language": "python",
   "name": "python3"
  },
  "language_info": {
   "codemirror_mode": {
    "name": "ipython",
    "version": 3
   },
   "file_extension": ".py",
   "mimetype": "text/x-python",
   "name": "python",
   "nbconvert_exporter": "python",
   "pygments_lexer": "ipython3",
   "version": "3.7.12"
  },
  "papermill": {
   "default_parameters": {},
   "duration": 9.307547,
   "end_time": "2022-11-24T17:52:02.789047",
   "environment_variables": {},
   "exception": null,
   "input_path": "__notebook__.ipynb",
   "output_path": "__notebook__.ipynb",
   "parameters": {},
   "start_time": "2022-11-24T17:51:53.481500",
   "version": "2.3.4"
  }
 },
 "nbformat": 4,
 "nbformat_minor": 5
}
